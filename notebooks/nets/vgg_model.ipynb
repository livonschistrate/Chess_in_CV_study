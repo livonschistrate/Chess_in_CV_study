{
 "cells": [
  {
   "cell_type": "code",
   "execution_count": 1,
   "outputs": [],
   "source": [
    "import matplotlib.pyplot as plt\n",
    "import tensorflow as tf\n",
    "import keras\n",
    "from tensorflow.keras.preprocessing.image import ImageDataGenerator\n",
    "from tensorflow.keras.models import Sequential\n",
    "from tensorflow.keras.layers import Conv2D, MaxPooling2D, Flatten, Dense\n",
    "from tensorflow.keras.callbacks import Callback\n",
    "from keras.layers import BatchNormalization, LayerNormalization"
   ],
   "metadata": {
    "collapsed": false
   }
  },
  {
   "cell_type": "code",
   "execution_count": 2,
   "outputs": [
    {
     "name": "stdout",
     "output_type": "stream",
     "text": [
      "importing Jupyter notebook from dataset_config.ipynb\n",
      "Found 0 images belonging to 13 classes.\n",
      "Found 0 images belonging to 0 classes.\n"
     ]
    }
   ],
   "source": [
    "import import_ipynb\n",
    "from dataset_config import create_first_data_flow"
   ],
   "metadata": {
    "collapsed": false
   }
  },
  {
   "cell_type": "code",
   "execution_count": 4,
   "outputs": [],
   "source": [
    "from keras.applications.vgg16 import VGG16\n",
    "from keras.applications.vgg19 import VGG19\n",
    "from keras.optimizers import Adam"
   ],
   "metadata": {
    "collapsed": false
   }
  },
  {
   "cell_type": "code",
   "execution_count": 3,
   "outputs": [],
   "source": [
    "# incomplete because we need to generate a better dataset for training\n",
    "train_data = 1\n",
    "test_data = 2"
   ],
   "metadata": {
    "collapsed": false
   }
  },
  {
   "cell_type": "code",
   "execution_count": 5,
   "outputs": [],
   "source": [
    "def init_vgg16_head(train_data):\n",
    "    base_model_head = VGG16(include_top=False, weights=None, input_shape=(800, 800, 3), classes=train_data.shape[1])\n",
    "    transfer_model_head = VGG16(include_top=False, weights='imagenet',input_shape=(800, 800, 3), classes=train_data.shape[1])\n",
    "    return base_model_head, transfer_model_head\n",
    "\n",
    "def init_vgg19_head(train_data):\n",
    "    base_model_head = VGG19(include_top=False, weights=None, input_shape=(800, 800, 3), classes=train_data.shape[1])\n",
    "    transfer_model_head = VGG19(include_top=False, weights='imagenet',input_shape=(800, 800, 3), classes=train_data.shape[1])\n",
    "    return base_model_head, transfer_model_head"
   ],
   "metadata": {
    "collapsed": false
   }
  },
  {
   "cell_type": "code",
   "execution_count": 6,
   "outputs": [],
   "source": [
    "def init_vgg_model(vgg_head):\n",
    "    model = Sequential()\n",
    "    model.add(vgg_head)\n",
    "    model.add(Flatten())\n",
    "    model.add(Dense(1024, activation=('relu')))\n",
    "    model.add(BatchNormalization())\n",
    "    # model.add(Dropout(0.4))\n",
    "    model.add(Dense(512, activation=('relu')))\n",
    "    model.add(BatchNormalization())\n",
    "    # model.add(Dropout(0.4))\n",
    "    model.add(Dense(256, activation=('relu')))\n",
    "    model.add(BatchNormalization())\n",
    "    # model.add(Dropout(0.4))\n",
    "    model.add(Dense(128, activation=('relu')))\n",
    "    model.add(BatchNormalization())\n",
    "    # model.add(Dropout(0.4))\n",
    "    model.add(Dense(10, activation=('softmax')))\n",
    "    return model"
   ],
   "metadata": {
    "collapsed": false
   }
  },
  {
   "cell_type": "code",
   "execution_count": 7,
   "outputs": [],
   "source": [
    "optimizer = Adam(learning_rate=5e-4)\n",
    "\n",
    "def vgg16_compile():\n",
    "    base_model_head, transfer_model_head = init_vgg16_head(train_data)\n",
    "    print(\"--------VGG16 BASE MODEL--------\")\n",
    "    base_model = init_vgg_model(base_model_head)\n",
    "    base_model.compile(optimizer=optimizer, loss=keras.losses.categorical_crossentropy, metrics=['accuracy'])\n",
    "    base_history = base_model.fit(train_data, epochs=20, batch_size=256, validation_data=test_data)\n",
    "    print(\"--------VGG16 TRANSFER MODEL--------\")\n",
    "    transfer_model = init_vgg_model(transfer_model_head)\n",
    "    transfer_model.compile(optimizer=optimizer, loss=keras.losses.categorical_crossentropy, metrics=['accuracy'])\n",
    "    transfer_history = transfer_model.fit(train_data, epochs=20, batch_size=256, validation_data=test_data)\n",
    "\n",
    "def vgg19_compile():\n",
    "    base_model_head, transfer_model_head = init_vgg19_head(train_data)\n",
    "    print(\"--------VGG19 BASE MODEL--------\")\n",
    "    base_model = init_vgg_model(base_model_head)\n",
    "    base_model.compile(optimizer=optimizer, loss=keras.losses.categorical_crossentropy, metrics=['accuracy'])\n",
    "    base_history = base_model.fit(train_data, epochs=20, batch_size=256, validation_data=test_data)\n",
    "    print(\"--------VGG19 TRANSFER MODEL--------\")\n",
    "    transfer_model = init_vgg_model(transfer_model_head)\n",
    "    transfer_model.compile(optimizer=optimizer, loss=keras.losses.categorical_crossentropy, metrics=['accuracy'])\n",
    "    transfer_history = transfer_model.fit(train_data, epochs=20, batch_size=256, validation_data=test_data)"
   ],
   "metadata": {
    "collapsed": false
   }
  }
 ],
 "metadata": {
  "kernelspec": {
   "display_name": "Python 3",
   "language": "python",
   "name": "python3"
  },
  "language_info": {
   "codemirror_mode": {
    "name": "ipython",
    "version": 2
   },
   "file_extension": ".py",
   "mimetype": "text/x-python",
   "name": "python",
   "nbconvert_exporter": "python",
   "pygments_lexer": "ipython2",
   "version": "2.7.6"
  }
 },
 "nbformat": 4,
 "nbformat_minor": 0
}
